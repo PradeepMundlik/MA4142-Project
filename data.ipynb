{
 "cells": [
  {
   "cell_type": "code",
   "execution_count": null,
   "metadata": {
    "vscode": {
     "languageId": "r"
    }
   },
   "outputs": [],
   "source": [
    "# Data path\n",
    "data_path <- \"/Users/naman/Workspace/Data/Regression-Analysis/weatherHistory.csv\"\n",
    "\n",
    "data <- read.csv(data_path)\n",
    "\n",
    "# Remove redundant columns\n",
    "remove_columns <- c(\"summary\", \"precip\", \"daily_sumary\")\n",
    "data <- data[, -which(names(data) %in% remove_columns)]\n",
    "\n",
    "# Remove extra rows\n",
    "shuffled_indices <- sample(nrow(data))\n",
    "num_rows <- 1e4\n",
    "data <- data[shuffled_indices[1:num_rows],]\n",
    "\n",
    "dim(data)\n",
    "tail(data)"
   ]
  }
 ],
 "metadata": {
  "kernelspec": {
   "display_name": "R",
   "language": "R",
   "name": "ir"
  },
  "language_info": {
   "name": "R"
  }
 },
 "nbformat": 4,
 "nbformat_minor": 2
}
